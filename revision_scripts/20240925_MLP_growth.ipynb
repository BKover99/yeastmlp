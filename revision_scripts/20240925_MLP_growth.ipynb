{
 "cells": [
  {
   "cell_type": "code",
   "execution_count": 7,
   "metadata": {},
   "outputs": [],
   "source": [
    "import os\n",
    "import pandas as pd\n",
    "import numpy as np\n",
    "import matplotlib.pyplot as plt\n",
    "from yeastmlp import flocculation as flo\n",
    "import sys\n",
    "\n",
    "#Try to do this better\n",
    "yeastmlp_dir = os.path.normpath('C:/Users/bheineike/Documents/GitHub/yeastmlp') + os.sep \n",
    "\n",
    "if not(yeastmlp_dir in sys.path): \n",
    "    sys.path.append(yeastmlp_dir)\n",
    "    print(\"Added \" + yeastmlp_dir + \" to path\" )\n",
    "\n",
    "base_dir = \"G:/.shortcut-targets-by-id/0B3ejcGO9fA5eYXlHMW9tekVERmc/JB labs documents/Updated_JB_documents_2019/JB LAB_Projects/biofilm_qtl/data/growth\""
   ]
  },
  {
   "cell_type": "code",
   "execution_count": null,
   "metadata": {},
   "outputs": [],
   "source": [
    "## Make a plot of OD over time with hours on the X axis, OD on the Y axis\n",
    "## Plot one line per replicate (in different colors).  At each point show the three data point (if this is ugly can switch to error bars for std)\n",
    "\n",
    "\n",
    "#read in the data\n",
    "\n",
    "#Map from timepoint to clock time (extract clock time from file metadata)\n",
    "\n",
    "timepoint_map = {'EMM':\n",
    "                    {'T0': {},\n",
    "                     'T1': {},\n",
    "                     'T2': {},\n",
    "                     'T3': {},\n",
    "                     'T4': {}\n",
    "                     }, \n",
    "                'YES':\n",
    "                    {'T0': {},\n",
    "                     'T1': {},\n",
    "                     'T2': {},\n",
    "                     'T3': {},\n",
    "                     'T4': {}\n",
    "                     }, \n",
    "                }\n",
    "\n",
    "#For each timepoint\n",
    "\n",
    "#Extract data from each file\n",
    "\n",
    "#Map the wells into a dataframe\n",
    "#Put the data into a dataframe with columns ['media', 'strain', 'rep', 'dilution', 'raw_od', 'od']"
   ]
  },
  {
   "cell_type": "code",
   "execution_count": 10,
   "metadata": {},
   "outputs": [
    {
     "data": {
      "text/plain": [
       "['H1', 'H2', 'H3', 'H4', 'H5', 'H6']"
      ]
     },
     "execution_count": 10,
     "metadata": {},
     "output_type": "execute_result"
    }
   ],
   "source": [
    "#list comprehension\n",
    "\n",
    "['H' + str(jj) for jj in range(1,7)]"
   ]
  },
  {
   "cell_type": "code",
   "execution_count": 12,
   "metadata": {},
   "outputs": [
    {
     "name": "stdout",
     "output_type": "stream",
     "text": [
      "A\n",
      "B\n",
      "C\n",
      "D\n",
      "E\n",
      "F\n",
      "G\n"
     ]
    }
   ],
   "source": [
    "for row in 'ABCDEFG':\n",
    "    print(row)"
   ]
  },
  {
   "cell_type": "code",
   "execution_count": 11,
   "metadata": {},
   "outputs": [
    {
     "name": "stdout",
     "output_type": "stream",
     "text": [
      "0\n",
      "A\n",
      "1\n",
      "B\n",
      "2\n",
      "C\n",
      "3\n",
      "D\n",
      "4\n",
      "E\n",
      "5\n",
      "F\n",
      "6\n",
      "G\n"
     ]
    }
   ],
   "source": [
    "#Enumerate\n",
    "\n",
    "for jj, row in enumerate('ABCDEFG'):\n",
    "    print(jj)\n",
    "    print(row)\n"
   ]
  },
  {
   "cell_type": "code",
   "execution_count": 8,
   "metadata": {},
   "outputs": [],
   "source": [
    "data_file = base_dir + os.sep + '20240925_plate_reader_od_calibration.asc'\n",
    "\n",
    "data = flo.read_OD_from_single_reading_asc(data_file)"
   ]
  },
  {
   "cell_type": "code",
   "execution_count": 9,
   "metadata": {},
   "outputs": [
    {
     "data": {
      "text/plain": [
       "{'A1': 0.4673,\n",
       " 'A2': 0.5031,\n",
       " 'A3': 0.508,\n",
       " 'A4': 0.4049,\n",
       " 'A5': 0.4901,\n",
       " 'A6': 0.418,\n",
       " 'A7': 0.494,\n",
       " 'A8': 0.3121,\n",
       " 'A9': 0.5001,\n",
       " 'A10': 0.3044,\n",
       " 'A11': 0.5023,\n",
       " 'A12': 0.272,\n",
       " 'B1': 0.2013,\n",
       " 'B2': 0.2071,\n",
       " 'B3': 0.2029,\n",
       " 'B4': 0.1751,\n",
       " 'B5': 0.1967,\n",
       " 'B6': 0.1554,\n",
       " 'B7': 0.1983,\n",
       " 'B8': 0.1475,\n",
       " 'B9': 0.2044,\n",
       " 'B10': 0.1485,\n",
       " 'B11': 0.2051,\n",
       " 'B12': 0.1446,\n",
       " 'C1': 0.1104,\n",
       " 'C2': 0.1029,\n",
       " 'C3': 0.1154,\n",
       " 'C4': 0.0972,\n",
       " 'C5': 0.1135,\n",
       " 'C6': 0.0968,\n",
       " 'C7': 0.1166,\n",
       " 'C8': 0.0998,\n",
       " 'C9': 0.1182,\n",
       " 'C10': 0.1017,\n",
       " 'C11': 0.1171,\n",
       " 'C12': 0.1015,\n",
       " 'D1': 0.086,\n",
       " 'D2': 0.0804,\n",
       " 'D3': 0.0859,\n",
       " 'D4': 0.0803,\n",
       " 'D5': 0.0862,\n",
       " 'D6': 0.0799,\n",
       " 'D7': 0.095,\n",
       " 'D8': 0.0916,\n",
       " 'D9': 0.0954,\n",
       " 'D10': 0.0913,\n",
       " 'D11': 0.0958,\n",
       " 'D12': 0.0892,\n",
       " 'E1': 0.0764,\n",
       " 'E2': 0.0744,\n",
       " 'E3': 0.0766,\n",
       " 'E4': 0.0741,\n",
       " 'E5': 0.0767,\n",
       " 'E6': 0.0745,\n",
       " 'E7': 0.0869,\n",
       " 'E8': 0.0858,\n",
       " 'E9': 0.0874,\n",
       " 'E10': 0.0857,\n",
       " 'E11': 0.0881,\n",
       " 'E12': 0.0854,\n",
       " 'F1': 0.0734,\n",
       " 'F2': 0.0729,\n",
       " 'F3': 0.0739,\n",
       " 'F4': 0.0724,\n",
       " 'F5': 0.0743,\n",
       " 'F6': 0.0721,\n",
       " 'F7': 0.0846,\n",
       " 'F8': 0.0841,\n",
       " 'F9': 0.0847,\n",
       " 'F10': 0.0846,\n",
       " 'F11': 0.085,\n",
       " 'F12': 0.0832,\n",
       " 'G1': 0.0717,\n",
       " 'G2': 0.0709,\n",
       " 'G3': 0.0714,\n",
       " 'G4': 0.0714,\n",
       " 'G5': 0.0717,\n",
       " 'G6': 0.0721,\n",
       " 'G7': 0.081,\n",
       " 'G8': 0.0808,\n",
       " 'G9': 0.0815,\n",
       " 'G10': 0.0824,\n",
       " 'G11': 0.0842,\n",
       " 'G12': 0.0813,\n",
       " 'H1': 0.0707,\n",
       " 'H2': 0.07,\n",
       " 'H3': 0.0702,\n",
       " 'H4': 0.0703,\n",
       " 'H5': 0.0702,\n",
       " 'H6': 0.0702,\n",
       " 'H7': 0.0809,\n",
       " 'H8': 0.0811,\n",
       " 'H9': 0.0809,\n",
       " 'H10': 0.0815,\n",
       " 'H11': 0.0818,\n",
       " 'H12': 0.0807}"
      ]
     },
     "execution_count": 9,
     "metadata": {},
     "output_type": "execute_result"
    }
   ],
   "source": [
    "data"
   ]
  }
 ],
 "metadata": {
  "kernelspec": {
   "display_name": "bmh_bioinformatics",
   "language": "python",
   "name": "python3"
  },
  "language_info": {
   "codemirror_mode": {
    "name": "ipython",
    "version": 3
   },
   "file_extension": ".py",
   "mimetype": "text/x-python",
   "name": "python",
   "nbconvert_exporter": "python",
   "pygments_lexer": "ipython3",
   "version": "3.11.5"
  }
 },
 "nbformat": 4,
 "nbformat_minor": 2
}
